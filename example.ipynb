{
 "cells": [
  {
   "cell_type": "code",
   "execution_count": 1,
   "metadata": {},
   "outputs": [],
   "source": [
    "import numpy as np\n",
    "import torch\n",
    "import matplotlib.pyplot as plt\n",
    "from mdn import MixtureDensityNetwork"
   ]
  },
  {
   "cell_type": "markdown",
   "metadata": {},
   "source": [
    "# Example of Mixture Density Network with Full Covariance \n",
    "\n",
    "## generate data"
   ]
  },
  {
   "cell_type": "code",
   "execution_count": 2,
   "metadata": {},
   "outputs": [],
   "source": [
    "data_size = 1024\n",
    "mu_1, cov_1 = torch.tensor([0., 0.]), torch.tensor([[1, 0.75], [0.75, 1]])\n",
    "mu_2, cov_2 = torch.tensor([0., 10.]), torch.tensor([[2., -1.8], [-1.8, 2]])\n",
    "normal_1 = torch.distributions.MultivariateNormal(mu_1, cov_1)\n",
    "normal_2 = torch.distributions.MultivariateNormal(mu_2, cov_2)\n",
    "data = torch.cat([normal_1.rsample((data_size,)), normal_2.rsample((data_size,))])\n",
    "x = torch.rand((2 * data_size, 1))"
   ]
  },
  {
   "cell_type": "code",
   "execution_count": 3,
   "metadata": {},
   "outputs": [
    {
     "data": {
      "image/png": "[encoded data removed]",
      "text/plain": [
       "<Figure size 432x288 with 1 Axes>"
      ]
     },
     "metadata": {
      "needs_background": "light"
     },
     "output_type": "display_data"
    }
   ],
   "source": [
    "plt.hist2d(data[:, 0].numpy(), data[:, 1].numpy(), bins=100)\n",
    "plt.show()"
   ]
  },
  {
   "cell_type": "markdown",
   "metadata": {},
   "source": [
    "## Model\n",
    "Note here we only use 2 Gaussians, but with full covariance matrices!"
   ]
  },
  {
   "cell_type": "code",
   "execution_count": 4,
   "metadata": {},
   "outputs": [],
   "source": [
    "model = MixtureDensityNetwork(dim_in=1, dim_out=2, n_components=2, full_cov=True)\n",
    "optimizer = torch.optim.Adam(model.parameters(), lr=1e-2)"
   ]
  },
  {
   "cell_type": "code",
   "execution_count": 5,
   "metadata": {},
   "outputs": [
    {
     "name": "stdout",
     "output_type": "stream",
     "text": [
      "epoch 0, loss 18.738622665405273\n",
      "epoch 1000, loss 4.279388427734375\n",
      "epoch 2000, loss 3.9659199714660645\n",
      "epoch 3000, loss 3.368032217025757\n",
      "epoch 4000, loss 3.2696938514709473\n",
      "epoch 5000, loss 3.266528367996216\n",
      "epoch 6000, loss 3.266526222229004\n",
      "epoch 7000, loss 3.266526222229004\n",
      "epoch 8000, loss 3.266525983810425\n",
      "epoch 9000, loss 3.266526222229004\n"
     ]
    }
   ],
   "source": [
    "for i in range(10000):\n",
    "    optimizer.zero_grad()\n",
    "    loss = model.loss(x, data).mean()\n",
    "    loss.backward()\n",
    "    optimizer.step()\n",
    "    if i % 1000 == 0:\n",
    "        print(f'epoch {i}, loss {loss.item()}')"
   ]
  },
  {
   "cell_type": "markdown",
   "metadata": {},
   "source": [
    "## Sampling"
   ]
  },
  {
   "cell_type": "code",
   "execution_count": 6,
   "metadata": {},
   "outputs": [
    {
     "data": {
      "image/png": "[encoded data removed]",
      "text/plain": [
       "<Figure size 432x288 with 1 Axes>"
      ]
     },
     "metadata": {
      "needs_background": "light"
     },
     "output_type": "display_data"
    }
   ],
   "source": [
    "samples = model.sample(x)\n",
    "plt.hist2d(samples[:, 0].numpy(), samples[:, 1].numpy(), bins=100)\n",
    "plt.show()"
   ]
  },
  {
   "cell_type": "markdown",
   "metadata": {},
   "source": [
    "## Parameters"
   ]
  },
  {
   "cell_type": "code",
   "execution_count": 7,
   "metadata": {},
   "outputs": [],
   "source": [
    "pi, normal = model.forward(x)"
   ]
  },
  {
   "cell_type": "code",
   "execution_count": 8,
   "metadata": {},
   "outputs": [
    {
     "name": "stdout",
     "output_type": "stream",
     "text": [
      "pi:  tensor([0.5110, 0.4890], grad_fn=<SelectBackward>)\n",
      "mean:  tensor([[-0.0481, 10.1137],\n",
      "        [ 0.0521,  0.0940]], grad_fn=<SelectBackward>)\n",
      "cov:  tensor([[[ 2.2877, -2.0314],\n",
      "         [-2.0314,  2.1936]],\n",
      "\n",
      "        [[ 1.0534,  0.7548],\n",
      "         [ 0.7548,  1.0153]]], grad_fn=<SelectBackward>)\n"
     ]
    }
   ],
   "source": [
    "print('pi: ', pi.probs[0])\n",
    "print('mean: ', normal.loc[0])\n",
    "print('cov: ', normal.covariance_matrix[0])"
   ]
  }
 ],
 "metadata": {
  "interpreter": {
   "hash": "6544d7d25989b4294a912322cb1a3d014baeb728b9c72e23e3b8bbf4fa651ef0"
  },
  "kernelspec": {
   "display_name": "Python 3.7.6 64-bit ('base')",
   "language": "python",
   "name": "python3"
  },
  "language_info": {
   "codemirror_mode": {
    "name": "ipython",
    "version": 3
   },
   "file_extension": ".py",
   "mimetype": "text/x-python",
   "name": "python",
   "nbconvert_exporter": "python",
   "pygments_lexer": "ipython3",
   "version": "3.7.6"
  },
  "orig_nbformat": 4
 },
 "nbformat": 4,
 "nbformat_minor": 2
}
